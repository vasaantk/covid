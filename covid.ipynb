{
 "cells": [
  {
   "cell_type": "markdown",
   "metadata": {
    "ein.tags": "worksheet-0",
    "slideshow": {
     "slide_type": "-"
    }
   },
   "source": [
    "What to see how countries' covid cases, stack up against each other?\n",
    "\n",
    "Enter the country (or 'state, country' in some cases) in the following\n",
    "line.\n",
    "\n",
    "e.g.\n",
    "usrQuery = ['singapore']\n",
    "usrQuery = ['us', 'india']\n",
    "usrQuery = ['victoria, australia', 'new south wales, australia']"
   ]
  },
  {
   "cell_type": "code",
   "execution_count": null,
   "metadata": {
    "autoscroll": false,
    "collapsed": false,
    "ein.hycell": false,
    "ein.tags": "worksheet-0",
    "slideshow": {
     "slide_type": "-"
    }
   },
   "outputs": [],
   "source": [
    "usrQuery = ['tasmania, australia', 'new zealand']"
   ]
  },
  {
   "cell_type": "markdown",
   "metadata": {
    "ein.tags": "worksheet-0",
    "slideshow": {
     "slide_type": "-"
    }
   },
   "source": [
    "To see the results, click 'Cell --> Run All' in the toolbar at the\n",
    "top.\n",
    "\n",
    "There is no need to modify any code from here onward."
   ]
  },
  {
   "cell_type": "code",
   "execution_count": null,
   "metadata": {
    "autoscroll": false,
    "collapsed": false,
    "ein.hycell": false,
    "ein.tags": "worksheet-0",
    "slideshow": {
     "slide_type": "-"
    }
   },
   "outputs": [],
   "source": [
    "import datetime\n",
    "import numpy as np\n",
    "%matplotlib notebook\n",
    "from ipywidgets import *\n",
    "import matplotlib.pyplot as plt\n",
    "import sys\n",
    "\n",
    "#======================================================================\n",
    "#    Time series from\n",
    "# https://github.com/CSSEGISandData/COVID-19/tree/master/csse_covid_19_data/csse_covid_19_time_series\n",
    "confirmed = 'time_series_covid19_confirmed_global.csv'\n",
    "recovered = 'time_series_covid19_recovered_global.csv'\n",
    "deaths = 'time_series_covid19_deaths_global.csv'\n",
    "\n",
    "pltDiff = False\n",
    "if '--diff' in usrQuery:\n",
    "    pltDiff = True\n",
    "\n",
    "#======================================================================\n",
    "#    Custom functions\n",
    "def covidreader(fileName, usrNations, dataType):\n",
    "    # To store number of covid cases\n",
    "    covidArray = []\n",
    "    with open(fileName, 'r') as file:\n",
    "        dateLine = file.readline()\n",
    "        dates = dateLine.split(',')[4:]\n",
    "        dates = np.asarray([datetime.datetime.strptime(i.strip(),\n",
    "                                                       '%m/%d/%y') for i in dates[0:]])\n",
    "        for line in file:\n",
    "            csvAsList = line.split(',')\n",
    "            # csvAsList[0] is the country's states, if given\n",
    "            if csvAsList[0] != '':\n",
    "                statNation = ', '.join(csvAsList[0:2])\n",
    "            else:\n",
    "                statNation = csvAsList[1]\n",
    "            for nat in usrNations:\n",
    "                if statNation.upper() == nat.upper():\n",
    "                    covidCases = np.asarray(list(map(int, csvAsList[4:])))\n",
    "                    covidArray.append(covidCases)\n",
    "    return np.asarray(covidArray), np.asarray(dates)\n",
    "\n",
    "def covidplotter(dates, data, usrNations, dataType, delta, dotType,\n",
    "                 linecol= None, alfa= 1, lw= 1):\n",
    "    # To remember the line colour used for each country\n",
    "    if not linecol:\n",
    "        lineColArr = []\n",
    "        useCol = linecol\n",
    "    else:\n",
    "        lineColArr = linecol\n",
    "    numNats = np.shape(data)[0]\n",
    "    for nats in np.arange(numNats):\n",
    "        if type(linecol) is list:\n",
    "            useCol = linecol[nats]\n",
    "        natLeg = usrNations[nats] + ' (' + dataType + ')'\n",
    "        if delta:\n",
    "            covid, = plt.plot(dates[1:], np.diff(data[nats, :]),\n",
    "                              color= useCol, alpha= alfa, linestyle= dotType, label=\n",
    "                              natLeg, linewidth= lw)\n",
    "        else:\n",
    "            covid, = plt.plot(dates, data[nats, :], color= useCol,\n",
    "                              alpha= alfa, linestyle= dotType, label= natLeg, linewidth=\n",
    "                              lw)\n",
    "        if not linecol:\n",
    "            lineColArr.append(plt.getp(covid, 'color'))\n",
    "    return lineColArr\n",
    "\n",
    "\n",
    "\n",
    "\n",
    "#======================================================================\n",
    "#    Code begins here\n",
    "linew= 3\n",
    "\n",
    "# Get and plot number of confirmed cases\n",
    "conf, dates = covidreader(confirmed, usrQuery, 'confirmed')\n",
    "confcols = covidplotter(dates, conf, usrQuery, 'confirmed', pltDiff,\n",
    "                        'solid', lw= linew)\n",
    "\n",
    "# Get and plot number of recoveries, using the same line colour as\n",
    "# confirmed cases\n",
    "reco, dates = covidreader(recovered, usrQuery, 'recovered')\n",
    "covidplotter(dates, reco, usrQuery, 'recovered', pltDiff, 'dashdot',\n",
    "             linecol= confcols, alfa= 0.6, lw= linew)\n",
    "\n",
    "# Get an plot the number of deaths\n",
    "if not pltDiff:\n",
    "    dead, dates = covidreader(deaths, usrQuery, 'deaths')\n",
    "    natLen = np.shape(dead)[0]\n",
    "    for i in np.arange(natLen):\n",
    "        recoDead = reco[i, :] + dead[i, :]\n",
    "        plt.fill_between(dates, recoDead, reco[i, :], alpha= 0.5,\n",
    "                         label= 'recovered + deaths')\n",
    "\n",
    "plt.xticks(rotation= 25)\n",
    "plt.xlabel('Date')\n",
    "plt.ylabel('Count')\n",
    "plt.legend()\n",
    "plt.show()"
   ]
  }
 ],
 "metadata": {
  "kernelspec": {
   "display_name": "Python 2",
   "name": "python2"
  },
  "name": "covid.ipynb"
 },
 "nbformat": 4,
 "nbformat_minor": 2
}
